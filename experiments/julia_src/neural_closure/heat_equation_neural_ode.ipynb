{
 "cells": [
  {
   "cell_type": "markdown",
   "id": "82795668",
   "metadata": {},
   "source": [
    "# Heat equation - Retrieving operator through ODE solving"
   ]
  },
  {
   "cell_type": "code",
   "execution_count": 1,
   "id": "aae20b62",
   "metadata": {},
   "outputs": [
    {
     "data": {
      "text/plain": [
       "Main.Models"
      ]
     },
     "execution_count": 1,
     "metadata": {},
     "output_type": "execute_result"
    }
   ],
   "source": [
    "using LinearAlgebra\n",
    "using Flux\n",
    "using DiffEqFlux\n",
    "using OrdinaryDiffEq\n",
    "using GalacticOptim\n",
    "using Plots\n",
    "\n",
    "include(\"src/equations/initial_functions.jl\")\n",
    "include(\"src/equations/equations.jl\")\n",
    "include(\"src/utils/graphic_tools.jl\")\n",
    "include(\"src/utils/generators.jl\")\n",
    "include(\"src/utils/processing_tools.jl\")\n",
    "include(\"src/neural_ode/objectives.jl\")\n",
    "include(\"src/neural_ode/models.jl\")"
   ]
  },
  {
   "cell_type": "markdown",
   "id": "d4c5e1c4",
   "metadata": {},
   "source": [
    "## Analytical solution\n",
    "\n",
    "Compute the analytical solution u(t, x) and the analytical derivative by time of the solution u(t,x)"
   ]
  },
  {
   "cell_type": "markdown",
   "id": "dd4838a8",
   "metadata": {},
   "source": [
    "### Different methods\n",
    "\n",
    "We make usage of different method to evaluate a solution to the heat equation. Starting from the well-known analytical solution to the equation $u(x,t) = \\sum^{\\inf}_{n=1} c_n e^{-\\pi^2 n^2 t} sin(n \\pi x)$,\n",
    "we implemented as well different methods to study their efficiency with regards to the stability of the equation (explicit, implicit finite-difference, finite-element, pseudo-spectral)\n",
    "\n",
    "While for testing the quality of our implementation we started with the analytical solution, in the case of heat equation it is interesting to continue with a pseudo-spectral form using FFRT, a numerically stable solution for a large range of parameters."
   ]
  },
  {
   "cell_type": "code",
   "execution_count": null,
   "id": "cb6d1db3",
   "metadata": {},
   "outputs": [],
   "source": [
    "t_max = 1.;\n",
    "t_min = 0.;\n",
    "x_max = 1.;\n",
    "x_min = 0.;\n",
    "t_n = 64;\n",
    "x_n = 64;\n",
    "\n",
    "typ = 3;\n",
    "d = 1.;\n",
    "k = 1.;\n",
    "kappa = 0.005;\n",
    "L = x_max - x_min\n",
    "c = [0.7, 0.3, 0.4];\n",
    "n = [3, 7, 10];"
   ]
  },
  {
   "cell_type": "code",
   "execution_count": null,
   "id": "45056973",
   "metadata": {
    "scrolled": true
   },
   "outputs": [],
   "source": [
    "dt = round((t_max - t_min) / (t_n - 1), digits=8);\n",
    "dx = round((x_max - x_min) / (x_n - 1), digits=8);\n",
    "\n",
    "t = LinRange(t_min, t_max, t_n);\n",
    "x = LinRange(x_min, x_max, x_n);\n",
    "\n",
    "u0 = InitialFunctions.heat_analytical_init(t, x, n, c, kappa);\n",
    "t, u = Equations.get_heat_fft(t, dx, x_n, kappa, u0[1, :]);\n",
    "GraphicTools.show_state(u, \"Snapshot\") # need to reverse u, odesolver switch dimensions"
   ]
  },
  {
   "cell_type": "code",
   "execution_count": null,
   "id": "c0b1f8e2",
   "metadata": {
    "scrolled": true
   },
   "outputs": [],
   "source": [
    "ta, u_a = Generator.heat_snapshot_generator(t_max, t_min, x_max, x_min, t_n, x_n, 4, kappa, k)\n",
    "GraphicTools.show_state(u_a, \"Snapshot mock\")"
   ]
  },
  {
   "cell_type": "markdown",
   "id": "12702b5b",
   "metadata": {},
   "source": [
    "## Generate dataset"
   ]
  },
  {
   "cell_type": "code",
   "execution_count": null,
   "id": "6a0ea6ee",
   "metadata": {},
   "outputs": [],
   "source": [
    "function create_solution(c, k, ka)\n",
    "    X(k, x) = sqrt(2 / L) * sin(pi * k * (x - x_min) / L)\n",
    "    u(x, t) = sum(c * exp(-ka * (pi * k / L)^2 * t) * X(k, x) for (c, k) in zip(c, k))\n",
    "    u\n",
    "end"
   ]
  },
  {
   "cell_type": "code",
   "execution_count": null,
   "id": "a59cdfbd",
   "metadata": {
    "scrolled": true
   },
   "outputs": [],
   "source": [
    "function syver_cond(t_max, t_min, x_max, x_min, t_n, x_n, ka, nsample) \n",
    "    tsnap = LinRange(t_min, t_max, t_n)#[2:end]\n",
    "    K = 50\n",
    "    k = 1:K\n",
    "    c = [randn(K) ./ k for _ = 1:nsample]\n",
    "    u = [create_solution(c, k, ka) for c ∈ c]\n",
    "    init = [u(x, 0.) for x ∈ x, u ∈ u]\n",
    "    train = [u(x, t) for x ∈ x, u ∈ u, t ∈ tsnap]\n",
    "    return tsnap, init, train\n",
    "end"
   ]
  },
  {
   "cell_type": "code",
   "execution_count": null,
   "id": "ac2f73e3",
   "metadata": {},
   "outputs": [],
   "source": [
    "res = InitialFunctions.analytical_heat_1d(t, x, 1:50, [], kappa);\n",
    "GraphicTools.show_state(res, \"\")"
   ]
  },
  {
   "cell_type": "code",
   "execution_count": null,
   "id": "b4bae744",
   "metadata": {
    "scrolled": false
   },
   "outputs": [],
   "source": [
    "syver_dataset = syver_cond(t_max, t_min, x_max, x_min, t_n, x_n, kappa, 2);\n",
    "t, init_set, true_set = syver_dataset;\n",
    "t, u = Equations.get_heat_fft(t, dx, x_n, kappa, init_set[:, 1]);\n",
    "display(\n",
    "    plot(\n",
    "        GraphicTools.show_state(u, \"\"), # need to reverse u, odesolver switch dimensions\n",
    "        GraphicTools.show_state(true_set[:, 1, :], \"\");\n",
    "    );\n",
    ");"
   ]
  },
  {
   "cell_type": "code",
   "execution_count": null,
   "id": "6ca397d4",
   "metadata": {},
   "outputs": [],
   "source": [
    "dataset = Generator.generate_heat_training_dataset(t_max, t_min, x_max, x_min, t_n, x_n, 128, 4, kappa, k, \"./src/dataset/hand_analytical_heat_training_set.jld2\", \"training_set\");\n",
    "# hand_dataset = Generator.read_dataset(\"./src/dataset/hand_analytical_heat_training_set.jld2\")[\"training_set\"];\n",
    "# analytic_dataset = Generator.read_dataset(\"./src/dataset/odesolver_analytical_heat_training_set.jld2\")[\"training_set\"];\n",
    "# high_dataset = Generator.read_dataset(\"./src/dataset/high_dim_training_set.jld2\")[\"training_set\"];"
   ]
  },
  {
   "cell_type": "code",
   "execution_count": null,
   "id": "3d972fc7",
   "metadata": {
    "scrolled": true
   },
   "outputs": [],
   "source": [
    "function check_training_dataset(dataset)\n",
    "    for i in range(1, 5, step=1)\n",
    "        a, b, c, d = dataset[i];\n",
    "        display(GraphicTools.show_state(b, \"\"));\n",
    "    end\n",
    "end\n",
    "\n",
    "check_training_dataset(dataset)"
   ]
  },
  {
   "cell_type": "code",
   "execution_count": null,
   "id": "b40082ac",
   "metadata": {
    "scrolled": true
   },
   "outputs": [],
   "source": [
    "# syver_dataset = syver_cond(t_max, t_min, x_max, x_min, t_n, x_n, kappa, 128);\n",
    "# t, init_set, true_set = syver_dataset;\n",
    "t, init_set, true_set = ProcessingTools.process_dataset(dataset);\n",
    "loss(A, u₀, uₜ, t) = sum(abs2, S(A, u₀, t) - uₜ) / prod(size(uₜ));\n",
    "loss(A) = loss(A, init_set, true_set, t);\n",
    "A = zeros(x_n, x_n);\n",
    "callback(A, loss) = (println(loss);flush(stdout);false);\n",
    "result = DiffEqFlux.sciml_train(loss, A, ADAM(0.01); cb = callback, maxiters = 100);\n",
    "K = result.u;\n",
    "GraphicTools.show_state(K, \"\")"
   ]
  },
  {
   "cell_type": "markdown",
   "id": "1912f218",
   "metadata": {},
   "source": [
    "## Training with NeuralODE object"
   ]
  },
  {
   "cell_type": "code",
   "execution_count": null,
   "id": "2d209b5e",
   "metadata": {},
   "outputs": [],
   "source": [
    "callback(theta, loss, u) = (IJulia.clear_output(true); display(loss); false)"
   ]
  },
  {
   "cell_type": "code",
   "execution_count": null,
   "id": "132a89d4",
   "metadata": {},
   "outputs": [],
   "source": [
    "function heat_training(net, epochs, u0, u_true, t)\n",
    "  optimizer = DiffEqFlux.ADAM(0.01, (0.9, 0.999), 1.0e-8)\n",
    "  \n",
    "  tspan = (t[1], t[end])\n",
    "  neural_ode = NeuralODE(net, tspan, Tsit5(), saveat=t)\n",
    "\n",
    "  function predict_neural_ode(theta)\n",
    "    return Array(neural_ode(u0, theta))\n",
    "  end\n",
    "\n",
    "  function loss(theta)\n",
    "    u_pred = predict_neural_ode(theta)\n",
    "    noise = 1e-8 .* randn(size(u_pred))\n",
    "    l = Objectives.mseloss(u_pred + noise, u_true)\n",
    "    return l, u_pred\n",
    "  end\n",
    "    \n",
    "  lossL2(K) = loss(K) + 1e-2 * sum(abs2, K) / prod(size(K))\n",
    "\n",
    "  result = DiffEqFlux.sciml_train(lossL2, neural_ode.p, optimizer; cb = callback, maxiters = epochs);\n",
    "  return result\n",
    "end"
   ]
  },
  {
   "cell_type": "code",
   "execution_count": null,
   "id": "fc0dde6e",
   "metadata": {
    "scrolled": true
   },
   "outputs": [],
   "source": [
    "t, init_set, true_set = syver_dataset;\n",
    "#t, init_set, true_set = ProcessingTools.process_dataset(analytic_dataset);\n",
    "net = Models.HeatModel(x_n);\n",
    "result = heat_training(net, 100, init_set, true_set, t);"
   ]
  },
  {
   "cell_type": "markdown",
   "id": "021e2d5f",
   "metadata": {},
   "source": [
    "### Operator reconstructed\n",
    "\n",
    "Visualize reconstructed operator and check efficiency to determine solution from unknown sample"
   ]
  },
  {
   "cell_type": "code",
   "execution_count": null,
   "id": "25b3f079",
   "metadata": {
    "scrolled": false
   },
   "outputs": [],
   "source": [
    "K = reshape(result, (x_n, x_n))\n",
    "GraphicTools.show_state(reverse(K; dims = 1), \"Operator K\")"
   ]
  },
  {
   "cell_type": "code",
   "execution_count": null,
   "id": "624014de",
   "metadata": {},
   "outputs": [],
   "source": [
    "a, b, c = syver_dataset\n",
    "print(size(c))"
   ]
  },
  {
   "cell_type": "code",
   "execution_count": null,
   "id": "e0cb9534",
   "metadata": {
    "scrolled": false
   },
   "outputs": [],
   "source": [
    "# t, init, train = syver_dataset;\n",
    "u0 = init_set[:, 50];\n",
    "u = true_set[:, 50, :];\n",
    "#t, u0, u = Generator.get_heat_batch(t_max, t_min, x_max, x_min, t_n, x_n, 1, kappa, k);\n",
    "\n",
    "\n",
    "u_pred = Array(S(K, u0, t));\n",
    "\n",
    "plot(\n",
    "    GraphicTools.show_state(u, \"\"),\n",
    "    GraphicTools.show_state(u_pred, \"\");\n",
    "    layout = (1, 2),\n",
    ")"
   ]
  },
  {
   "cell_type": "markdown",
   "id": "13c31b50",
   "metadata": {},
   "source": [
    "## Training with solver"
   ]
  },
  {
   "cell_type": "code",
   "execution_count": null,
   "id": "bafc422c",
   "metadata": {
    "scrolled": false
   },
   "outputs": [],
   "source": [
    "plot(x, init_set[:, 1];)"
   ]
  },
  {
   "cell_type": "code",
   "execution_count": null,
   "id": "16b2e80f",
   "metadata": {
    "scrolled": false
   },
   "outputs": [],
   "source": [
    "t, u0, u_true = ProcessingTools.process_dataset(hand_dataset)\n",
    "plot(x, u0[:, 1];)"
   ]
  },
  {
   "cell_type": "code",
   "execution_count": null,
   "id": "34276c5d",
   "metadata": {},
   "outputs": [],
   "source": [
    "function f(u, K, t)\n",
    "  return K * u\n",
    "end"
   ]
  },
  {
   "cell_type": "code",
   "execution_count": null,
   "id": "3146b06d",
   "metadata": {},
   "outputs": [],
   "source": [
    "function S(net, u0, t)\n",
    "  tspan = (t[1], t[end])\n",
    "  prob = ODEProblem(ODEFunction(f), copy(u0), tspan, net)\n",
    "  sol = solve(prob, Tsit5(), saveat=t, reltol=1e-8, abstol=1e-8)\n",
    "end"
   ]
  },
  {
   "cell_type": "code",
   "execution_count": null,
   "id": "55ebfc96",
   "metadata": {},
   "outputs": [],
   "source": [
    "callback(A, loss) = (println(loss); flush(stdout); false)\n",
    "\n",
    "function heat_training_2(A, epochs, u0, u_true, tsnap)\n",
    "    \n",
    "  function loss(A)\n",
    "    u_pred = Array(S(A, u0, tsnap))\n",
    "    l = Objectives.mseloss(u_pred, u_true)\n",
    "    return l\n",
    "  end\n",
    "\n",
    "  result = DiffEqFlux.sciml_train(loss, A, ADAM(0.01); cb = callback, maxiters = epochs);\n",
    "  return result\n",
    "end"
   ]
  },
  {
   "cell_type": "code",
   "execution_count": null,
   "id": "76ed087e",
   "metadata": {},
   "outputs": [],
   "source": [
    "net = zeros(x_n, x_n);"
   ]
  },
  {
   "cell_type": "code",
   "execution_count": null,
   "id": "18ec121a",
   "metadata": {
    "scrolled": true
   },
   "outputs": [],
   "source": [
    "t, u0, u_true = ProcessingTools.process_dataset(analytic_dataset);\n",
    "result_2 = heat_training_2(copy(net), 100, u0, u_true, t);"
   ]
  },
  {
   "cell_type": "code",
   "execution_count": null,
   "id": "58591179",
   "metadata": {
    "scrolled": true
   },
   "outputs": [],
   "source": [
    "t2, init, train = syver_dataset;\n",
    "result_3 = heat_training_2(copy(net), 100, init, train, t2);"
   ]
  },
  {
   "cell_type": "code",
   "execution_count": null,
   "id": "6195faa6",
   "metadata": {
    "scrolled": true
   },
   "outputs": [],
   "source": [
    "t3, u03, u_true3 = ProcessingTools.process_dataset(high_dataset);\n",
    "result_4 = heat_training_2(copy(net), 100, u03, u_true3, t3);"
   ]
  },
  {
   "cell_type": "code",
   "execution_count": null,
   "id": "85839829",
   "metadata": {
    "scrolled": true
   },
   "outputs": [],
   "source": [
    "K2 = result_2.u\n",
    "K3 = result_3.u;\n",
    "K4 = result_4.u;\n",
    "\n",
    "display(\n",
    "    plot(\n",
    "        GraphicTools.show_state(reverse(K2; dims = 1), \"\"),\n",
    "        GraphicTools.show_state(reverse(K3; dims = 1), \"\"),\n",
    "        GraphicTools.show_state(reverse(K4; dims = 1), \"\");\n",
    "        layout = (1, 3),\n",
    "    ),\n",
    ");  "
   ]
  },
  {
   "cell_type": "code",
   "execution_count": null,
   "id": "3d4c5f93",
   "metadata": {
    "scrolled": true
   },
   "outputs": [],
   "source": [
    "# t, u0, u_true = ProcessingTools.process_dataset(dataset);\n",
    "\n",
    "t, u0, u = Generator.get_heat_batch(t_max, t_min, x_max, x_min, t_n, x_n, 3, kappa, k);\n",
    "# u_pred = Array(S(Afit, u0[, t));\n",
    "u_pred_2 = Array(S(K2, u0, t));\n",
    "u_pred_3 = Array(S(K3, u0, t));\n",
    "u_pred_4 = Array(S(K4, u0, t));\n",
    "# neural_ode = NeuralODE(net, (t[1], t[end]), Tsit5(), saveat=t)\n",
    "# u_pred = Array(neural_ode(u0, result))\n",
    "\n",
    "display(\n",
    "    plot(\n",
    "        GraphicTools.show_state(u, \"data\"),\n",
    "        #GraphicTools.show_state(u_pred, \"prediction 1\"),\n",
    "        GraphicTools.show_state(u_pred_2, \"prediction 2\"),\n",
    "        GraphicTools.show_state(u_pred_3, \"prediction 3\"),\n",
    "        GraphicTools.show_state(u_pred_3, \"prediction 4\");\n",
    "        layout = (2, 2),\n",
    "    ),\n",
    ");"
   ]
  },
  {
   "cell_type": "code",
   "execution_count": null,
   "id": "3f5fd68e",
   "metadata": {},
   "outputs": [],
   "source": []
  }
 ],
 "metadata": {
  "kernelspec": {
   "display_name": "Julia 1.6.3",
   "language": "julia",
   "name": "julia-1.6"
  },
  "language_info": {
   "file_extension": ".jl",
   "mimetype": "application/julia",
   "name": "julia",
   "version": "1.6.3"
  }
 },
 "nbformat": 4,
 "nbformat_minor": 5
}
