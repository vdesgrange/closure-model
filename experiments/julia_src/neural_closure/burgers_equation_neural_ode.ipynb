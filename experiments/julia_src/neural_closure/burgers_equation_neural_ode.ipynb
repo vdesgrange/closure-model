{
 "cells": [
  {
   "cell_type": "code",
   "execution_count": 1,
   "id": "3523e57b",
   "metadata": {},
   "outputs": [
    {
     "data": {
      "text/plain": [
       "Main.ProcessingTools"
      ]
     },
     "execution_count": 1,
     "metadata": {},
     "output_type": "execute_result"
    }
   ],
   "source": [
    "using LinearAlgebra\n",
    "using Flux\n",
    "using DiffEqFlux\n",
    "using OrdinaryDiffEq\n",
    "using GalacticOptim\n",
    "using Plots\n",
    "using Zygote\n",
    "using BenchmarkTools\n",
    "using CUDA\n",
    "using Printf\n",
    "using MLUtils\n",
    "using IterTools: ncycle\n",
    "using BSON: @save, @load\n",
    "\n",
    "include(\"src/equations/initial_functions.jl\")\n",
    "include(\"src/equations/equations.jl\")\n",
    "include(\"src/utils/graphic_tools.jl\")\n",
    "include(\"src/utils/generators.jl\")\n",
    "include(\"src/neural_ode/objectives.jl\")\n",
    "include(\"src/neural_ode/models.jl\")\n",
    "include(\"src/neural_ode/regularization.jl\")\n",
    "include(\"src/rom/pod.jl\")\n",
    "include(\"src/utils/processing_tools.jl\")"
   ]
  },
  {
   "cell_type": "markdown",
   "id": "7f66904b",
   "metadata": {},
   "source": [
    "# FOM + ROM solutions\n",
    "\n",
    "Compute some fom and rom solution u(t, x)"
   ]
  },
  {
   "cell_type": "markdown",
   "id": "a88a6532",
   "metadata": {},
   "source": [
    "## Gaussian random initial conditions"
   ]
  },
  {
   "cell_type": "code",
   "execution_count": null,
   "id": "3d3f612c",
   "metadata": {},
   "outputs": [],
   "source": [
    "t_max = 2.;\n",
    "t_min = 0.;\n",
    "x_max = 1.;\n",
    "x_min = -1.;\n",
    "t_n = 64;\n",
    "x_n = 64;\n",
    "\n",
    "nu = 0.08;\n",
    "\n",
    "dt = round((t_max - t_min) / (t_n - 1), digits=8);\n",
    "dx = round((x_max - x_min) / (x_n - 1), digits=8);\n",
    "\n",
    "t = LinRange(t_min, t_max, t_n);\n",
    "x = LinRange(x_min, x_max, x_n);"
   ]
  },
  {
   "cell_type": "code",
   "execution_count": null,
   "id": "4519c98c",
   "metadata": {
    "scrolled": false
   },
   "outputs": [],
   "source": [
    "u0 = InitialFunctions.high_dim_random_init(t, x, 20);\n",
    "#u0 = exp.(-16 .* (x.^2));\n",
    "#u0 = InitialFunctions.advecting_shock(t, x, 0.001);\n",
    "# u0 = InitialFunctions.random_init(t, x);\n",
    "# u0 = -1 .* collect(x);\n",
    "t2, u = Equations.get_burgers_godunov(t, dx, x_n, nu, u0[1, :]);\n",
    "GraphicTools.show_state(u, \"\") # need to reverse u, odesolver switch dimensions"
   ]
  },
  {
   "cell_type": "code",
   "execution_count": null,
   "id": "028209be",
   "metadata": {},
   "outputs": [],
   "source": [
    "t4, u3 = Equations.get_burgers_ccdf(t, dx, x_n, nu, u0[1, :]);\n",
    "GraphicTools.show_state(u3, \"\")"
   ]
  },
  {
   "cell_type": "code",
   "execution_count": null,
   "id": "02458268",
   "metadata": {},
   "outputs": [],
   "source": [
    "t3, u2 = Equations.get_burgers_fft(t, dx, x_n, 0.03, u0[1, :]);\n",
    "GraphicTools.show_state(u2, \"\")"
   ]
  },
  {
   "cell_type": "code",
   "execution_count": null,
   "id": "eb39bdeb",
   "metadata": {
    "scrolled": false
   },
   "outputs": [],
   "source": [
    "plot(t, x, u2, st = :surface, xlabel = \"t\", ylabel = \"x\", zlabel = \"u\")\n",
    "plot!(dpi=300)"
   ]
  },
  {
   "cell_type": "code",
   "execution_count": null,
   "id": "7e2b9567",
   "metadata": {
    "scrolled": false
   },
   "outputs": [],
   "source": [
    "t, u2 = Equations.get_burgers_fft(t, dx, x_n, 0.03, u0[1, :]);\n",
    "GraphicTools.show_state(u2, \"Snapshot\") # need to reverse u, odesolver switch dimensions"
   ]
  },
  {
   "cell_type": "code",
   "execution_count": null,
   "id": "21283b12",
   "metadata": {
    "scrolled": true
   },
   "outputs": [],
   "source": [
    "plot(x, t, u2, st = :surface, xlabel = \"t\", ylabel = \"x\", zlabel = \"u\")\n",
    "plot!(dpi=300)"
   ]
  },
  {
   "cell_type": "code",
   "execution_count": null,
   "id": "bcc82206",
   "metadata": {
    "scrolled": true
   },
   "outputs": [],
   "source": [
    "# ta, u_a = Generator.burgers_snapshot_generator(t_max, t_min, x_max, x_min, t_n, x_n, nu, 1);\n",
    "# GraphicTools.show_state(u_a, \"Snapshot generator\")"
   ]
  },
  {
   "cell_type": "code",
   "execution_count": null,
   "id": "60d28acf",
   "metadata": {
    "scrolled": false
   },
   "outputs": [],
   "source": [
    "bas, ū = POD.generate_pod_basis(u2, true);\n",
    "ϕ = bas.modes;\n",
    "coeff = bas.coefficients;\n",
    "tmp = ϕ[:, 1:5] * coeff[1:5, :] .+ ū\n",
    "display(\n",
    "    plot(\n",
    "        GraphicTools.show_state(u, \"\"),\n",
    "        GraphicTools.show_state(u2, \"\"),\n",
    "        GraphicTools.show_state(tmp, \"\"),\n",
    "        GraphicTools.show_err(u2, tmp, \"\");\n",
    "        layout = (2, 2)\n",
    "    )\n",
    ");"
   ]
  },
  {
   "cell_type": "code",
   "execution_count": null,
   "id": "f6eca085",
   "metadata": {
    "scrolled": false
   },
   "outputs": [],
   "source": [
    "Ū = Equations.galerkin_projection(t, u2, ϕ[:, 1:3], 0.01, dx, dt);\n",
    "display(\n",
    "    plot(\n",
    "        GraphicTools.show_state(u2, \"\"),\n",
    "        GraphicTools.show_state(Ū, \"\"),\n",
    "        GraphicTools.show_err(u2, Ū, \"\"),\n",
    "        GraphicTools.show_err(u2, Ū, \"\");\n",
    "        layout = (2, 2)\n",
    "    )\n",
    ");"
   ]
  },
  {
   "cell_type": "code",
   "execution_count": null,
   "id": "40701f24",
   "metadata": {
    "scrolled": true
   },
   "outputs": [],
   "source": [
    "# plot(x, u[:, 1])\n",
    "# plot!(x, u[:, end])\n",
    "# plot!(x, Ū[:, 1])\n",
    "# plot!(x, Ū[:, end])"
   ]
  },
  {
   "cell_type": "markdown",
   "id": "42446333",
   "metadata": {},
   "source": [
    "## Analytical solution initial conditions"
   ]
  },
  {
   "cell_type": "code",
   "execution_count": null,
   "id": "b4d6230a",
   "metadata": {},
   "outputs": [],
   "source": [
    "#u0 = InitialFunctions.advecting_shock(t, x, nu);\n",
    "u0 = exp.(-16 .* (x.^2));\n",
    "t, u = Equations.get_burgers_fft(t, dx, x_n, nu, u0);\n",
    "GraphicTools.show_state(u, \"Snapshot\")"
   ]
  },
  {
   "cell_type": "code",
   "execution_count": null,
   "id": "c775f761",
   "metadata": {},
   "outputs": [],
   "source": [
    "plot(t, x, u, st = :surface, xlabel = \"t\", ylabel = \"x\", zlabel = \"u\")\n",
    "plot!(dpi=300)"
   ]
  },
  {
   "cell_type": "markdown",
   "id": "f479ea39",
   "metadata": {},
   "source": [
    "---\n",
    "# Generate data"
   ]
  },
  {
   "cell_type": "code",
   "execution_count": null,
   "id": "936fdabc",
   "metadata": {},
   "outputs": [],
   "source": [
    "# dataset = Generator.generate_burgers_training_dataset(t_max, t_min, x_max, x_min, t_n, x_n, nu, 128, 2, 1, false, \"./src/dataset/burgers_high_dim_training_set.jld2\", \"training_set\");\n",
    "# high_dataset = Generator.read_dataset(\"./src/dataset/burgers_high_dim_training_set.jld2\")[\"training_set\"];\n",
    "# coarse_dataset = Generator.read_dataset(\"./src/dataset/burgers_coarse_training_set.jld2\")[\"training_set\"];\n",
    "nu_dataset = Generator.read_dataset(\"./src/examples/burgers/dataset/burgers_high_dim_nu_variational_dataset.jld2\")[\"training_set\"];"
   ]
  },
  {
   "cell_type": "code",
   "execution_count": null,
   "id": "57389ce8",
   "metadata": {
    "scrolled": true
   },
   "outputs": [],
   "source": [
    "function check_training_dataset(dataset)\n",
    "    for i in range(1, 3, step=1)\n",
    "        a, b = dataset[i];\n",
    "        display(GraphicTools.show_state(b, \"\"))\n",
    "    end\n",
    "end\n",
    "\n",
    "check_training_dataset(nu_dataset)"
   ]
  },
  {
   "cell_type": "markdown",
   "id": "c3c54458",
   "metadata": {},
   "source": [
    "--- \n",
    "# Training with NeuralODE object (DISCARDED)"
   ]
  },
  {
   "cell_type": "code",
   "execution_count": null,
   "id": "a402ea45",
   "metadata": {},
   "outputs": [],
   "source": [
    "callback(theta, loss, u) = (display(loss); false)"
   ]
  },
  {
   "cell_type": "code",
   "execution_count": null,
   "id": "658071ce",
   "metadata": {},
   "outputs": [],
   "source": [
    "function burgers_training(net, epochs, u0, u_true, t)\n",
    "  optimizer = DiffEqFlux.ADAM(0.03, (0.9, 0.999), 1.0e-8)\n",
    "  \n",
    "  tspan = (t[1], t[end])\n",
    "  neural_ode = NeuralODE(net, tspan, Tsit5(), saveat=t)\n",
    "\n",
    "  function predict_neural_ode(theta)\n",
    "    return Array(neural_ode(u0, theta))\n",
    "  end\n",
    "\n",
    "  function loss(theta)\n",
    "    u_pred = predict_neural_ode(theta)\n",
    "    noise = 1e-6 .* randn(size(u_pred))\n",
    "    l = Objectives.mseloss(u_pred + noise, u_true)\n",
    "    return l, u_pred\n",
    "  end\n",
    "\n",
    "  result = DiffEqFlux.sciml_train(loss, neural_ode.p, optimizer; cb = callback, maxiters = epochs);\n",
    "  return result\n",
    "end"
   ]
  },
  {
   "cell_type": "markdown",
   "id": "c668cc80",
   "metadata": {},
   "source": [
    "## Experiment with different models\n",
    "\n",
    "### Heat linear model"
   ]
  },
  {
   "cell_type": "code",
   "execution_count": null,
   "id": "fdc0f5ca",
   "metadata": {},
   "outputs": [],
   "source": [
    "t, init_set, true_set = ProcessingTools.process_dataset(high_dataset, false);\n",
    "net = Models.HeatModel(x_n);\n",
    "result = burgers_training(net, 100, init_set, true_set, t);"
   ]
  },
  {
   "cell_type": "code",
   "execution_count": null,
   "id": "b9b4dd60",
   "metadata": {
    "scrolled": false
   },
   "outputs": [],
   "source": [
    "K = reshape(result, (x_n, x_n))\n",
    "t, u0, u = Generator.get_burgers_batch(t_max, t_min, x_max, x_min, t_n, x_n, nu, 2);\n",
    "u_pred = Array(S(K, u0, t));  # S function at bottom of notebook\n",
    "\n",
    "plot(\n",
    "    GraphicTools.show_state(u, \"\"),\n",
    "    GraphicTools.show_state(u_pred, \"\"),\n",
    "    GraphicTools.show_state((u_pred .- u), \"\");\n",
    "    layout = (1, 3),\n",
    ")"
   ]
  },
  {
   "cell_type": "markdown",
   "id": "7da0b1e5",
   "metadata": {},
   "source": [
    "##### Operator reconstructed\n",
    "\n",
    "Visualize reconstructed operator and check efficiency to determine solution from unknown sample"
   ]
  },
  {
   "cell_type": "code",
   "execution_count": null,
   "id": "4bcf6e33",
   "metadata": {},
   "outputs": [],
   "source": [
    "function f(u, K, t)\n",
    "  return K * u\n",
    "end\n",
    "\n",
    "function S(net, u0, t)\n",
    "  tspan = (t[1], t[end])\n",
    "  prob = ODEProblem(ODEFunction(f), copy(u0), tspan, net)\n",
    "  sol = solve(prob, Tsit5(), saveat=t, reltol=1e-8, abstol=1e-8)\n",
    "end"
   ]
  },
  {
   "cell_type": "code",
   "execution_count": null,
   "id": "47ce48d5",
   "metadata": {
    "scrolled": true
   },
   "outputs": [],
   "source": [
    "K = reshape(result, (x_n, x_n))\n",
    "GraphicTools.show_state(reverse(K; dims = 1), \"Operator K\")"
   ]
  },
  {
   "cell_type": "code",
   "execution_count": null,
   "id": "e47e1370",
   "metadata": {
    "scrolled": true
   },
   "outputs": [],
   "source": [
    "t, u0, u = Generator.get_burgers_batch(t_max, t_min, x_max, x_min, t_n, x_n, nu, 2);\n",
    "u_pred = Array(S(K, u0, t));\n",
    "plot(\n",
    "    GraphicTools.show_state(u, \"\"),\n",
    "    GraphicTools.show_state(u_pred, \"\");\n",
    "    layout = (1, 2),\n",
    ")"
   ]
  },
  {
   "cell_type": "markdown",
   "id": "6ff2985c",
   "metadata": {},
   "source": [
    "## Analysis"
   ]
  },
  {
   "cell_type": "code",
   "execution_count": null,
   "id": "22397d0e",
   "metadata": {},
   "outputs": [],
   "source": [
    "function test_simulation(net, result, n, typ)\n",
    "    mse_tot = 0\n",
    "    l1_tot = 0\n",
    "    for i in n\n",
    "        t, u0, u_true = Generator.get_burgers_batch(t_max, t_min, x_max, x_min, t_n, x_n, nu, typ);\n",
    "        prob_neuralode = DiffEqFlux.NeuralODE(net, (t[1], t[end]), Tsit5(), saveat=t)\n",
    "        u_pred = prob_neuralode(u0, result)\n",
    "\n",
    "        mse_tot += Objectives.mseloss(u_pred, u_true)\n",
    "        l1_tot += sum(abs.(u_pred .- u_true))\n",
    "    end\n",
    "    \n",
    "    return mse_tot / n, l1_tot / n\n",
    "end"
   ]
  },
  {
   "cell_type": "markdown",
   "id": "8b58ae75",
   "metadata": {},
   "source": [
    "--- \n",
    "# Training with flux"
   ]
  },
  {
   "cell_type": "code",
   "execution_count": null,
   "id": "c0128cf8",
   "metadata": {},
   "outputs": [],
   "source": [
    "function check_result(nn, res, typ)\n",
    "    t, u0, u = Generator.get_burgers_batch(t_max, t_min, x_max, x_min, t_n, x_n, nu, typ);\n",
    "    prob_neuralode = DiffEqFlux.NeuralODE(nn, (t[1], t[end]), Tsit5(), saveat=t)\n",
    "    u_pred = prob_neuralode(u0, res)\n",
    "\n",
    "    plot(\n",
    "        GraphicTools.show_state(u, \"\"),\n",
    "        GraphicTools.show_state(hcat(u_pred.u...), \"\"),\n",
    "        GraphicTools.show_err(hcat(u_pred.u...), u, \"\");\n",
    "        layout = (1, 3),\n",
    "    )\n",
    "end"
   ]
  },
  {
   "cell_type": "code",
   "execution_count": null,
   "id": "7579d905",
   "metadata": {},
   "outputs": [],
   "source": [
    "function training(model, epochs, dataset, batch_size, ratio, noise=0., reg=0., cuda=false)\n",
    "   if cuda && CUDA.has_cuda()\n",
    "      device = Flux.gpu\n",
    "      CUDA.allowscalar(true) # false\n",
    "      @info \"Training on GPU\"\n",
    "  else\n",
    "      device = Flux.cpu\n",
    "      @info \"Training on CPU\"\n",
    "  end\n",
    "\n",
    "  model = model |> device\n",
    "  opt = Flux.Optimiser(Flux.WeightDecay(reg), Flux.ADAM(0.01, (0.9, 0.999), 1.0e-8))\n",
    "  ltrain = 0.;\n",
    "  lval = 0.;\n",
    "  losses = [];\n",
    "\n",
    "  @info(\"Loading dataset\")\n",
    "  (train_loader, val_loader) = ProcessingTools.get_data_loader(dataset, batch_size, ratio, false, false);\n",
    "\n",
    "  @info(\"Building model\")\n",
    "  p, re = Flux.destructure(model);\n",
    "  net(u, p, t) = re(p)(u);\n",
    "\n",
    "  prob = ODEProblem{false}(net, Nothing, (Nothing, Nothing));\n",
    "\n",
    "  function predict_neural_ode(x, t)\n",
    "    tspan = (t[1], t[end]);\n",
    "    _prob = remake(prob; u0=x, p=p, tspan=tspan);\n",
    "    Array(solve(_prob, AutoTsit5(Rosenbrock23()), u0=x, p=p, saveat=t));\n",
    "  end\n",
    "\n",
    "  function loss(x, y, t)\n",
    "    u_pred = predict_neural_ode(x, t[1]);\n",
    "    ŷ = Reg.gaussian_augment(u_pred, noise);\n",
    "    l = Flux.mse(ŷ, permutedims(y, (1, 3, 2))) # + Reg.l2(p, reg);\n",
    "    return l;\n",
    "  end\n",
    "\n",
    "  function traincb()\n",
    "    ltrain = 0;\n",
    "    for (x, y, t) in train_loader\n",
    "      # (x, y, t) = (x, y, t) |> device;\n",
    "      ltrain += loss(x, y, t);\n",
    "    end\n",
    "    ltrain /= (train_loader.nobs / train_loader.batchsize);\n",
    "    @show(ltrain);\n",
    "  end\n",
    "\n",
    "  function val_loss(x, y, t)\n",
    "    u_pred = predict_neural_ode(x, t[1]);\n",
    "    ŷ = u_pred;\n",
    "    l = Flux.mse(ŷ, permutedims(y, (1, 3, 2)))\n",
    "    return l;\n",
    "  end\n",
    "\n",
    "  function evalcb()\n",
    "    lval = 0;\n",
    "    for (x, y, t) in val_loader\n",
    "      # (x, y, t) = (x, y, t) |> device;\n",
    "      lval += val_loss(x, y, t);\n",
    "    end\n",
    "    lval /= (val_loader.nobs / val_loader.batchsize);\n",
    "    @show(lval);\n",
    "  end\n",
    "\n",
    "  @info(\"Train\")\n",
    "  trigger = Flux.plateau(() -> ltrain, 20; init_score = 1, min_dist = 1f-5);\n",
    "  Flux.@epochs epochs begin\n",
    "    Flux.train!(loss, Flux.params(p), train_loader, opt, cb = [traincb, evalcb]);\n",
    "    trigger() && break;\n",
    "  end\n",
    "\n",
    "  return re(p), p, ltrain, lval\n",
    "end"
   ]
  },
  {
   "cell_type": "code",
   "execution_count": null,
   "id": "801c6582",
   "metadata": {},
   "outputs": [],
   "source": [
    "?ProcessingTools.get_data_loader"
   ]
  },
  {
   "cell_type": "code",
   "execution_count": null,
   "id": "2134cbc7",
   "metadata": {
    "scrolled": true
   },
   "outputs": [],
   "source": [
    "function main()\n",
    "  batch_size = 32;\n",
    "  epochs = 10;\n",
    "\n",
    "  data = Generator.read_dataset(\"./src/examples/burgers/dataset/burgers_high_dim_training_set.jld2\")[\"training_set\"];\n",
    "  model = Models.FeedForwardNetwork(x_n, 2, 64);\n",
    "  K, p = training(model, epochs, data, batch_size, 0.9, 0.01, 1.0e-6);\n",
    "  return K, p\n",
    "end\n",
    "\n",
    "K, p = main()"
   ]
  },
  {
   "cell_type": "code",
   "execution_count": null,
   "id": "cdfad6fa",
   "metadata": {},
   "outputs": [],
   "source": [
    "# @save \"./src/examples/burgers/models/BurgersBasicAutoEncoderModel.bson\" K\n",
    "# @load \"./src/examples/burgers/models/tuning_burgers_basicautoencoder_20.bson\" K p"
   ]
  },
  {
   "cell_type": "code",
   "execution_count": null,
   "id": "f12c873b",
   "metadata": {
    "scrolled": true
   },
   "outputs": [],
   "source": [
    "check_result(K, p, 2)"
   ]
  },
  {
   "cell_type": "code",
   "execution_count": null,
   "id": "7c442f32",
   "metadata": {
    "scrolled": true
   },
   "outputs": [],
   "source": [
    "data = Generator.read_dataset(\"./src/examples/burgers/dataset/burgers_high_dim_training_set.jld2\")[\"training_set\"];\n",
    "t, u0, u = ProcessingTools.process_dataset(data, false);\n",
    "prob_neuralode = DiffEqFlux.NeuralODE(K, (t[1], t[end]), Rosenbrock23(), saveat=t);\n",
    "i = 43\n",
    "u_pred = prob_neuralode(u0[:, i], p);\n",
    "display(\n",
    "    plot(\n",
    "        GraphicTools.show_state(u[:, i, :], \"\"),\n",
    "        GraphicTools.show_state(hcat(u_pred.u...), \"\"),\n",
    "        GraphicTools.show_err(hcat(u_pred.u...), u[:, i, :], \"\");\n",
    "        layout = (1, 3),\n",
    "    )\n",
    ")"
   ]
  },
  {
   "cell_type": "markdown",
   "id": "19319be2",
   "metadata": {},
   "source": [
    "# Hyper-parameter tuning"
   ]
  },
  {
   "cell_type": "code",
   "execution_count": null,
   "id": "154ff628",
   "metadata": {},
   "outputs": [],
   "source": []
  }
 ],
 "metadata": {
  "kernelspec": {
   "display_name": "Julia 1.6.3",
   "language": "julia",
   "name": "julia-1.6"
  },
  "language_info": {
   "file_extension": ".jl",
   "mimetype": "application/julia",
   "name": "julia",
   "version": "1.6.3"
  }
 },
 "nbformat": 4,
 "nbformat_minor": 5
}
